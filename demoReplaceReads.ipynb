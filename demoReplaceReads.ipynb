{
 "cells": [
  {
   "cell_type": "code",
   "execution_count": 1,
   "metadata": {},
   "outputs": [],
   "source": [
    "import replaceReadsUtils\n",
    "import pysam"
   ]
  },
  {
   "cell_type": "markdown",
   "metadata": {},
   "source": [
    "# set up some demo reads\n",
    "\n",
    "```\n",
    "    10\n",
    " a: AAAAAAAAAAAAAAAAAAA\n",
    " b:      TTTTTTTTTTTTTTTTTTTT\n",
    " m: AAAAAAAAAA-----AAAAACCCCC\n",
    " m2:       AAA---CCC\n",
    " ```"
   ]
  },
  {
   "cell_type": "code",
   "execution_count": 2,
   "metadata": {},
   "outputs": [
    {
     "name": "stdout",
     "output_type": "stream",
     "text": [
      "readA: read1\t0\t0\t10\t20\t20M\t-1\t-1\t20\tAAAAAAAAAAAAAAAAAAAA\tarray('B', [27, 27, 27, 27, 27, 27, 27, 27, 27, 27, 27, 27, 27, 27, 27, 27, 27, 27, 27, 27])\t[('NM', 1), ('RG', 'L1')]\n",
      "readB: read2\t0\t0\t15\t20\t20M\t-1\t-1\t20\tTTTTTTTTTTTTTTTTTTTT\tarray('B', [27, 27, 27, 27, 27, 27, 27, 27, 27, 27, 27, 27, 27, 27, 27, 27, 27, 27, 27, 27])\t[('NM', 1), ('RG', 'L1')]\n"
     ]
    }
   ],
   "source": [
    "genome = \"G\"*100\n",
    "genome_start = 3\n",
    "\n",
    "a = pysam.AlignedSegment()\n",
    "qseq = \"A\"*20\n",
    "a.query_name = \"read1\"\n",
    "a.query_sequence=qseq\n",
    "a.flag = 0\n",
    "a.reference_id = 0\n",
    "a.reference_start = 10\n",
    "a.mapping_quality = 20\n",
    "a.cigarstring = str(len(qseq)) + \"M\"\n",
    "a.query_qualities = pysam.qualitystring_to_array(\"<\"*len(qseq))\n",
    "a.tags = ((\"NM\", 1),(\"RG\", \"L1\"))\n",
    "\n",
    "b = pysam.AlignedSegment()\n",
    "qseq = \"T\"*20\n",
    "b.query_name = \"read2\"\n",
    "b.query_sequence=qseq\n",
    "b.flag = 0\n",
    "b.reference_id = 0\n",
    "b.reference_start = 15\n",
    "b.mapping_quality = 20\n",
    "b.cigarstring = str(len(qseq)) + \"M\"\n",
    "b.query_qualities = pysam.qualitystring_to_array(\"<\"*len(qseq))\n",
    "b.tags = ((\"NM\", 1),(\"RG\", \"L1\"))\n",
    "\n",
    "\n",
    "m = pysam.AlignedSegment()\n",
    "qseq = \"AAAAAAAAAAAAAAACCCCC\"\n",
    "m.query_name = \"mod\"\n",
    "m.query_sequence=qseq\n",
    "m.flag = 0\n",
    "m.reference_id = 0\n",
    "m.reference_start = 10\n",
    "m.mapping_quality = 20\n",
    "m.cigarstring = \"10M5D10M\"\n",
    "m.query_qualities = pysam.qualitystring_to_array(\"<\"*len(qseq))\n",
    "m.tags = ((\"NM\", 1),(\"RG\", \"L1\"))\n",
    "\n",
    "m2 = pysam.AlignedSegment()\n",
    "qseq = \"AAACCC\"\n",
    "m2.query_name = \"mod2\"\n",
    "m2.query_sequence=qseq\n",
    "m2.flag = 0\n",
    "m2.reference_id = 0\n",
    "m2.reference_start = 18\n",
    "m2.mapping_quality = 20\n",
    "m2.cigarstring = \"3M3D3M\"\n",
    "m2.query_qualities = pysam.qualitystring_to_array(\"<\"*len(qseq))\n",
    "m2.tags = ((\"NM\", 1),(\"RG\", \"L1\"))"
   ]
  },
  {
   "cell_type": "markdown",
   "metadata": {},
   "source": [
    "# Demo inserting the edit in m2 into read b\n",
    "\n",
    "Read b has 20 T's. Read m2 has 3 A's, a 3bp deletion, and 3 C's. We will insert this into read b."
   ]
  },
  {
   "cell_type": "code",
   "execution_count": 9,
   "metadata": {},
   "outputs": [
    {
     "name": "stdout",
     "output_type": "stream",
     "text": [
      "read b: read2\t0\t0\t15\t20\t20M\t-1\t-1\t20\tTTTTTTTTTTTTTTTTTTTT\tarray('B', [27, 27, 27, 27, 27, 27, 27, 27, 27, 27, 27, 27, 27, 27, 27, 27, 27, 27, 27, 27])\t[('NM', 1), ('RG', 'L1')]\n",
      "read m2: mod2\t0\t0\t18\t20\t3M3D3M\t-1\t-1\t6\tAAACCC\tarray('B', [27, 27, 27, 27, 27, 27])\t[('NM', 1), ('RG', 'L1')]\n",
      "new:read2\t0\t0\t15\t20\t6M3D14M\t-1\t-1\t20\tTTTAAACCCTTTTTTTTGGG\tarray('B', [27, 27, 27, 27, 27, 27, 27, 27, 27, 27, 27, 27, 27, 27, 27, 27, 27, 27, 27, 27])\t[('NM', 1), ('RG', 'L1')]\n"
     ]
    }
   ],
   "source": [
    "new = replaceReadsUtils.replaceRead(b,m2,genome,genome_start)\n",
    "\n",
    "print(\"read b: \" + str(b))\n",
    "print(\"read m2: \" + str(m2))\n",
    "print(\"new:\" + str(new))"
   ]
  },
  {
   "cell_type": "markdown",
   "metadata": {},
   "source": [
    "Note that the new read is the same seqencing length as the original read b, but that it now includes a 3bp deletion as shown in the cigar sequence."
   ]
  }
 ],
 "metadata": {
  "kernelspec": {
   "display_name": "Python 3",
   "language": "python",
   "name": "python3"
  },
  "language_info": {
   "codemirror_mode": {
    "name": "ipython",
    "version": 3
   },
   "file_extension": ".py",
   "mimetype": "text/x-python",
   "name": "python",
   "nbconvert_exporter": "python",
   "pygments_lexer": "ipython3",
   "version": "3.6.1"
  }
 },
 "nbformat": 4,
 "nbformat_minor": 2
}
