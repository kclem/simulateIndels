{
 "cells": [
  {
   "cell_type": "code",
   "execution_count": null,
   "metadata": {
    "collapsed": false
   },
   "outputs": [],
   "source": [
    "#!conda create -f -n darpaSims python=3.6 anaconda\n",
    "#!conda install -f pyvcf"
   ]
  },
  {
   "cell_type": "code",
   "execution_count": 1,
   "metadata": {
    "collapsed": false
   },
   "outputs": [
    {
     "ename": "ModuleNotFoundError",
     "evalue": "No module named 'vcf'",
     "output_type": "error",
     "traceback": [
      "\u001b[0;31m---------------------------------------------------------------------------\u001b[0m",
      "\u001b[0;31mModuleNotFoundError\u001b[0m                       Traceback (most recent call last)",
      "\u001b[0;32m<ipython-input-1-8d2884b5f7a9>\u001b[0m in \u001b[0;36m<module>\u001b[0;34m()\u001b[0m\n\u001b[1;32m      9\u001b[0m \u001b[0;32mfrom\u001b[0m \u001b[0mlofreqCaller\u001b[0m \u001b[0;32mimport\u001b[0m \u001b[0mLofreqCaller\u001b[0m\u001b[0;34m\u001b[0m\u001b[0m\n\u001b[1;32m     10\u001b[0m \u001b[0;32mfrom\u001b[0m \u001b[0msomaticSniperCaller\u001b[0m \u001b[0;32mimport\u001b[0m \u001b[0mSomaticSniperCaller\u001b[0m\u001b[0;34m\u001b[0m\u001b[0m\n\u001b[0;32m---> 11\u001b[0;31m \u001b[0;32mfrom\u001b[0m \u001b[0mvarscanCaller\u001b[0m \u001b[0;32mimport\u001b[0m \u001b[0mVarscanCaller\u001b[0m\u001b[0;34m\u001b[0m\u001b[0m\n\u001b[0m\u001b[1;32m     12\u001b[0m \u001b[0;34m\u001b[0m\u001b[0m\n",
      "\u001b[0;32m/data/pinello/PROJECTS/2017_07_DARPA_SIMULATIONS/simulations/circle/replaceReads/scripts_2/varscanCaller.py\u001b[0m in \u001b[0;36m<module>\u001b[0;34m()\u001b[0m\n\u001b[1;32m      1\u001b[0m \u001b[0;32mfrom\u001b[0m \u001b[0mcaller\u001b[0m \u001b[0;32mimport\u001b[0m \u001b[0mCaller\u001b[0m\u001b[0;34m\u001b[0m\u001b[0m\n\u001b[0;32m----> 2\u001b[0;31m \u001b[0;32mimport\u001b[0m \u001b[0mvcf\u001b[0m\u001b[0;34m\u001b[0m\u001b[0m\n\u001b[0m\u001b[1;32m      3\u001b[0m \u001b[0;32mimport\u001b[0m \u001b[0mnumpy\u001b[0m \u001b[0;32mas\u001b[0m \u001b[0mnp\u001b[0m\u001b[0;34m\u001b[0m\u001b[0m\n\u001b[1;32m      4\u001b[0m \u001b[0;32mimport\u001b[0m \u001b[0mos\u001b[0m\u001b[0;34m\u001b[0m\u001b[0m\n\u001b[1;32m      5\u001b[0m \u001b[0;32mimport\u001b[0m \u001b[0mstat\u001b[0m\u001b[0;34m\u001b[0m\u001b[0m\n",
      "\u001b[0;31mModuleNotFoundError\u001b[0m: No module named 'vcf'"
     ]
    }
   ],
   "source": [
    "import configparser\n",
    "import os\n",
    "import sys\n",
    "from subprocess import call\n",
    "from runReplaceReads import runReplaceReads\n",
    "from runCallersHelpers import aggregate_indels, print_indels, print_aggregate_indels, print_all_aggregate_indels\n",
    "from simCaller import SimCaller\n",
    "from pindelCaller import PindelCaller #additional callers can be implemented and imported here\n",
    "from lofreqCaller import LofreqCaller\n",
    "from somaticSniperCaller import SomaticSniperCaller\n",
    "from varscanCaller import VarscanCaller\n",
    "\n"
   ]
  },
  {
   "cell_type": "markdown",
   "metadata": {},
   "source": [
    "# First, define the Caller class\n",
    "Individual indel callers can implement this class for easy integration into the testing framework.\n",
    "As an example, see [pindelCaller.py](pindelCaller.py)."
   ]
  },
  {
   "cell_type": "code",
   "execution_count": null,
   "metadata": {
    "collapsed": true
   },
   "outputs": [],
   "source": [
    "class Caller:\n",
    "    def __init__(self):\n",
    "        \"\"\"\"Instantiate a new caller object.\n",
    "        Any variables unique to this caller should be set here.\n",
    "        For example, if this caller requires the path to the fastq reference, that should be set here.\n",
    "        \"\"\"\n",
    "        pass\n",
    "    def get_name(self):\n",
    "        \"\"\"Get the name of the caller.\n",
    "        This name will be used in output that compares this caller to other callers\n",
    "        Returns: A string with a name identifying the caller\n",
    "        \"\"\"\n",
    "        pass\n",
    "    def run_caller(self, sample_bam,control_bam):\n",
    "        \"\"\"Extract indels from a pair of bams.\n",
    "        sample_bam is the bam with simulated indels\n",
    "        control_bam is the bam with no simulated indels\n",
    "        Returns: a string with a command to run this indel for this pair of bams\n",
    "           or: '' if the calling for the pair of bams has been completed\n",
    "        \"\"\"\n",
    "        pass\n",
    "    def get_results(self, sample_bam,control_bam):\n",
    "        \"\"\"Extract indel calling results.\n",
    "        sample_bam is the bam with simulated indels\n",
    "        control_bam is the bam with no simulated indels\n",
    "        The caller function run_caller has been run previously. This function collects the results for indel calling by this caller\n",
    "        Returns: a dictionary: 'BP INDEL LOC' => count\n",
    "        where INDEL is either 'I' for insertion or 'D' for deletion\n",
    "        e.g. if a 25bp insertion was observed at position 100 supported by 5 reads, the key would be '25 I 100' and the value would be 5\n",
    "        \"\"\"\n",
    "        pass"
   ]
  },
  {
   "cell_type": "markdown",
   "metadata": {},
   "source": [
    "## Read in settings file. \n",
    "This settings file contains information required to run this simulation, including the location of the genome edits for simulations, and the bam sources of edited and non-edited reads.\n",
    "See this example below:\n",
    "    \n",
    "```\n",
    "[Simulation]\n",
    "depths: 30,100 # specifies the depths for the simulation as a comma-separated list\n",
    "pctMut: 0.05,0.1,0.15 # specifies the percent of reads to be mutated, as a comma separated list\n",
    "addQual: 0 # specifies the addition of quality to all bases (0 means that original quality score are used)\n",
    "reps: 3 # The number of replicates of each depth/pctMut/addQual setting to run.\n",
    "chr: chr2 # Location of genome editing event\n",
    "loc: 72933869 # Location of genome editing event\n",
    "simulateRange: 5000 # A simulated and control sample will be generated with reads within this many bp of 'chr:loc' as specified above\n",
    "FDRtolerance: 10,100,1000 # Window sizes for false positive indel calls\n",
    "reference: hg38/genome.fa # Location of fastq reference sequence\n",
    "sourceBam: NA12878/HG001.GRCh38_full_plus_hs38d1_analysis_set_minus_alts.300x.bam # Location of bam with unaltered reads\n",
    "alteredBam: SRR1046762.bam # Location of bam with genome-edited reads\n",
    "useOnlyIndels: True # Whether only reads in the sourceBam that have indels are inserted into simulated samples. If false, reads in sourceBam that are unmodified are also inserted into the simulated samples (producing no visible genome editing event).\n",
    "```"
   ]
  },
  {
   "cell_type": "code",
   "execution_count": null,
   "metadata": {
    "collapsed": false
   },
   "outputs": [],
   "source": [
    "settingsFile = \"test/simSettings.txt\"\n",
    "if not os.path.isfile(settingsFile):\n",
    "    raise Exception(\"Couldn't find settings file\")\n",
    "workFolder = os.path.dirname(os.path.abspath(settingsFile)) + \"/\"\n",
    "outFolder = workFolder + \"out/\"\n",
    "if not os.path.isdir(outFolder):\n",
    "    os.mkdir(outFolder)\n",
    "Config = configparser.ConfigParser()\n",
    "Config.read(settingsFile)\n",
    "depths = [int(i) for i in Config.get('Simulation','depths').split(\",\")]\n",
    "pctMut = [float(i) for i in Config.get('Simulation','pctMut').split(\",\")]\n",
    "addQual = [int(i) for i in Config.get('Simulation','addQual').split(\",\")]\n",
    "maxReps = Config.getint('Simulation','reps')\n",
    "reps = range(0,maxReps)"
   ]
  },
  {
   "cell_type": "markdown",
   "metadata": {},
   "source": [
    "## Create simulated samples by replacing reads with those with simulated indels"
   ]
  },
  {
   "cell_type": "code",
   "execution_count": null,
   "metadata": {
    "collapsed": false
   },
   "outputs": [],
   "source": [
    "replaceReadsScriptLoc = \"replaceReads.py\"\n",
    "simulateReadsCommands = runReplaceReads(Config,workFolder,outFolder,replaceReadsScriptLoc)\n",
    "if len(simulateReadsCommands) > 0:\n",
    "        print (\"got \" + str(len(simulateReadsCommands)) + \" commands to simulate samples\")\n",
    "        for command in simulateReadsCommands:\n",
    "                call(command,shell=True)\n",
    "else:\n",
    "        print('Finished simulating samples')"
   ]
  },
  {
   "cell_type": "markdown",
   "metadata": {},
   "source": [
    "## Create an array of simulated sample bams and control bams"
   ]
  },
  {
   "cell_type": "code",
   "execution_count": null,
   "metadata": {
    "collapsed": true
   },
   "outputs": [],
   "source": [
    "samples = []\n",
    "for d in depths:\n",
    "    for p in pctMut:\n",
    "        for q in addQual:\n",
    "            for r in reps:\n",
    "                simulated_bam = outFolder + \"replace_d\" + str(d) + \"_p\" + str(p) + \"_q\" + str(q)+ \"_r\" + str(r)+ \".bam\"\n",
    "                simulated_control = outFolder + \"replace_d\" + str(d) + \"_p\" + str(p) + \"_q\" + str(q) + \"_r\" + str(r) + \".bam.ctl.bam\"\n",
    "                name = \"replace_d\" + str(d) + \"_p\" + str(p) + \"_q\" + str(q)+ \"_r\" + str(r)\n",
    "                samples.append((name,simulated_bam,simulated_control))"
   ]
  },
  {
   "cell_type": "markdown",
   "metadata": {},
   "source": [
    "## Read actual simulated reads\n",
    "We use the [SimCaller](simCaller.py) class, which is a special instance of the Caller class, for which the ```get_results``` method is implemented, and recovers the simulated indels inserted into the simulated samples."
   ]
  },
  {
   "cell_type": "code",
   "execution_count": null,
   "metadata": {
    "collapsed": false
   },
   "outputs": [],
   "source": [
    "simCaller = SimCaller()\n",
    "simulated_indels = {}\n",
    "for name, simulated_bam, simulated_control in samples:\n",
    "    these_simulated_indels = simCaller.get_results(simulated_bam,simulated_control)\n",
    "    simulated_indels[name] = these_simulated_indels\n",
    "aggregated_simulated_indels = aggregate_indels(simulated_indels)\n"
   ]
  },
  {
   "cell_type": "markdown",
   "metadata": {},
   "source": [
    "## Create an array of callers\n",
    "Users may implement additional callers. They are instantiated here and added to this list of callers for testing and comparison below."
   ]
  },
  {
   "cell_type": "code",
   "execution_count": null,
   "metadata": {
    "collapsed": false
   },
   "outputs": [],
   "source": [
    "callers = []\n",
    "pindelCaller = PindelCaller(Config)\n",
    "callers.append(pindelCaller)\n",
    "lofreqCaller = LofreqCaller(Config)\n",
    "callers.append(lofreqCaller)\n",
    "somaticSniperCaller = SomaticSniperCaller(Config)\n",
    "callers.append(somaticSniperCaller)\n",
    "varscanCaller = VarscanCaller(Config)\n",
    "callers.append(varscanCaller)\n",
    "\n"
   ]
  },
  {
   "cell_type": "code",
   "execution_count": null,
   "metadata": {
    "collapsed": true
   },
   "outputs": [],
   "source": [
    "### Now that the caller is implemented, we can do a test run on single sample. Here, we'll demonstrate the pindelCaller."
   ]
  },
  {
   "cell_type": "code",
   "execution_count": null,
   "metadata": {
    "collapsed": false
   },
   "outputs": [],
   "source": [
    "#grab a sample\n",
    "test_sample_name, test_sample_sim_bam, test_sample_control_bam = samples[-1]\n",
    "print(\"Test sample: \" + test_sample_name + \"\\nSimulated bam: \" + test_sample_sim_bam + \"\\nControl bam: \" + test_sample_control_bam)\n"
   ]
  },
  {
   "cell_type": "code",
   "execution_count": null,
   "metadata": {
    "collapsed": false
   },
   "outputs": [],
   "source": [
    "#When we execute run_caller, the caller will return the code to run that caller\n",
    "command = pindelCaller.run_caller(test_sample_sim_bam,test_sample_control_bam)\n",
    "# Here, the command is empty because the caller has already processed this sample and control bam. \n",
    "# As an example, we'll pass it a pair of bams that are unprocessed, just to show the command produced.\n",
    "command = pindelCaller.run_caller(test_sample_sim_bam + \".unprocessed.bam\",test_sample_control_bam + \".unprocessed.bam\")\n",
    "print(command)\n"
   ]
  },
  {
   "cell_type": "code",
   "execution_count": null,
   "metadata": {
    "collapsed": false
   },
   "outputs": [],
   "source": [
    "#The get_results command returns a dictionary of 'BP INDEL LOC' => COUNT for each indel found. \n",
    "#For example, the key/value pair {'1 D 12345' : 5}\n",
    "#   means that a 1bp deletion was found at location 12345 with a coverage of 5 reads.\n",
    "#We'll print that dictionary of results out here:\n",
    "test_indels = pindelCaller.get_results(test_sample_sim_bam,test_sample_control_bam)\n",
    "print(test_indels)"
   ]
  },
  {
   "cell_type": "markdown",
   "metadata": {},
   "source": [
    "Now that we have shown the basic functionality of the caller class, we can run all of the callers on each of the simulated samples, and aggregate the results.\n",
    "## Run each caller on all of the sample pairs"
   ]
  },
  {
   "cell_type": "code",
   "execution_count": null,
   "metadata": {
    "collapsed": false
   },
   "outputs": [],
   "source": [
    "for caller in callers:\n",
    "    caller_commands = []\n",
    "    caller_name = caller.get_name()\n",
    "    for name, simulated_bam, simulated_control in samples:\n",
    "        this_command = caller.run_caller(simulated_bam,simulated_control)\n",
    "        if this_command != \"\":\n",
    "            caller_commands.append(this_command)\n",
    "    if len(caller_commands) > 0:\n",
    "        print (\"got \" + str(len(caller_commands)) + \" commands to run \" + caller_name)\n",
    "        for command in caller_commands:\n",
    "            print(\"running command \" + command)\n",
    "            call(command,shell=True)\n",
    "            print(\"Finished\");\n",
    "    else:\n",
    "        print('Finished running ' + caller_name + ' commands')\n",
    "\n"
   ]
  },
  {
   "cell_type": "markdown",
   "metadata": {},
   "source": [
    "## Read in results from each caller"
   ]
  },
  {
   "cell_type": "code",
   "execution_count": null,
   "metadata": {
    "collapsed": false
   },
   "outputs": [],
   "source": [
    "all_indels = {} #contains information for each simulated sample\n",
    "all_aggregated_indels = {} #aggregates information for each indel type across each sample\n",
    "\n",
    "for caller in callers:\n",
    "    caller_name = caller.get_name()\n",
    "    caller_indels = {}\n",
    "    for name, simulated_bam, simulated_control in samples:\n",
    "        these_simulated_indels = caller.get_results(simulated_bam,simulated_control)\n",
    "        caller_indels[name] = these_simulated_indels\n",
    "    all_indels[caller_name] = caller_indels\n",
    "    caller_aggregated_indels = aggregate_indels(caller_indels)\n",
    "    all_aggregated_indels[caller_name] = caller_aggregated_indels\n",
    "    print(\"Finished reading results from calling indels with \" + caller_name)\n"
   ]
  },
  {
   "cell_type": "code",
   "execution_count": null,
   "metadata": {
    "collapsed": false
   },
   "outputs": [],
   "source": [
    "print_all_aggregate_indels(all_aggregated_indels,aggregated_simulated_indels,callers)"
   ]
  },
  {
   "cell_type": "code",
   "execution_count": null,
   "metadata": {
    "collapsed": true
   },
   "outputs": [],
   "source": []
  }
 ],
 "metadata": {
  "kernelspec": {
   "display_name": "Python 3",
   "language": "python",
   "name": "python3"
  },
  "language_info": {
   "codemirror_mode": {
    "name": "ipython",
    "version": 3
   },
   "file_extension": ".py",
   "mimetype": "text/x-python",
   "name": "python",
   "nbconvert_exporter": "python",
   "pygments_lexer": "ipython3",
   "version": "3.6.0"
  }
 },
 "nbformat": 4,
 "nbformat_minor": 2
}
